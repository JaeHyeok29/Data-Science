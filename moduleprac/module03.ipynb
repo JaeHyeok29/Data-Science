{
 "cells": [
  {
   "cell_type": "markdown",
   "metadata": {},
   "source": [
    "## 외부데이터 CSV"
   ]
  },
  {
   "cell_type": "code",
   "execution_count": 3,
   "metadata": {},
   "outputs": [],
   "source": [
    "import pandas as pd"
   ]
  },
  {
   "cell_type": "code",
   "execution_count": 4,
   "metadata": {},
   "outputs": [
    {
     "data": {
      "text/html": [
       "<div>\n",
       "<style scoped>\n",
       "    .dataframe tbody tr th:only-of-type {\n",
       "        vertical-align: middle;\n",
       "    }\n",
       "\n",
       "    .dataframe tbody tr th {\n",
       "        vertical-align: top;\n",
       "    }\n",
       "\n",
       "    .dataframe thead th {\n",
       "        text-align: right;\n",
       "    }\n",
       "</style>\n",
       "<table border=\"1\" class=\"dataframe\">\n",
       "  <thead>\n",
       "    <tr style=\"text-align: right;\">\n",
       "      <th></th>\n",
       "      <th>행정구역</th>\n",
       "      <th>총인구수</th>\n",
       "      <th>세대수</th>\n",
       "      <th>세대당인구</th>\n",
       "      <th>남자인구수</th>\n",
       "      <th>여자인구수</th>\n",
       "    </tr>\n",
       "  </thead>\n",
       "  <tbody>\n",
       "    <tr>\n",
       "      <th>0</th>\n",
       "      <td>전국</td>\n",
       "      <td>51,370,001</td>\n",
       "      <td>23,900,917</td>\n",
       "      <td>2.15</td>\n",
       "      <td>25,592,335</td>\n",
       "      <td>25,777,666</td>\n",
       "    </tr>\n",
       "    <tr>\n",
       "      <th>1</th>\n",
       "      <td>서울특별시</td>\n",
       "      <td>9,407,540</td>\n",
       "      <td>4,475,726</td>\n",
       "      <td>2.10</td>\n",
       "      <td>4,552,501</td>\n",
       "      <td>4,855,039</td>\n",
       "    </tr>\n",
       "    <tr>\n",
       "      <th>2</th>\n",
       "      <td>부산광역시</td>\n",
       "      <td>3,300,836</td>\n",
       "      <td>1,565,115</td>\n",
       "      <td>2.11</td>\n",
       "      <td>1,609,650</td>\n",
       "      <td>1,691,186</td>\n",
       "    </tr>\n",
       "    <tr>\n",
       "      <th>3</th>\n",
       "      <td>대구광역시</td>\n",
       "      <td>2,377,801</td>\n",
       "      <td>1,092,536</td>\n",
       "      <td>2.18</td>\n",
       "      <td>1,168,679</td>\n",
       "      <td>1,209,122</td>\n",
       "    </tr>\n",
       "    <tr>\n",
       "      <th>4</th>\n",
       "      <td>인천광역시</td>\n",
       "      <td>2,987,918</td>\n",
       "      <td>1,344,029</td>\n",
       "      <td>2.22</td>\n",
       "      <td>1,494,725</td>\n",
       "      <td>1,493,193</td>\n",
       "    </tr>\n",
       "    <tr>\n",
       "      <th>5</th>\n",
       "      <td>광주광역시</td>\n",
       "      <td>1,422,999</td>\n",
       "      <td>656,061</td>\n",
       "      <td>2.17</td>\n",
       "      <td>702,748</td>\n",
       "      <td>720,251</td>\n",
       "    </tr>\n",
       "    <tr>\n",
       "      <th>6</th>\n",
       "      <td>대전광역시</td>\n",
       "      <td>1,444,595</td>\n",
       "      <td>680,653</td>\n",
       "      <td>2.12</td>\n",
       "      <td>720,520</td>\n",
       "      <td>724,075</td>\n",
       "    </tr>\n",
       "    <tr>\n",
       "      <th>7</th>\n",
       "      <td>울산광역시</td>\n",
       "      <td>1,104,167</td>\n",
       "      <td>489,298</td>\n",
       "      <td>2.26</td>\n",
       "      <td>567,314</td>\n",
       "      <td>536,853</td>\n",
       "    </tr>\n",
       "    <tr>\n",
       "      <th>8</th>\n",
       "      <td>세종특별자치시</td>\n",
       "      <td>385,932</td>\n",
       "      <td>160,479</td>\n",
       "      <td>2.40</td>\n",
       "      <td>192,246</td>\n",
       "      <td>193,686</td>\n",
       "    </tr>\n",
       "    <tr>\n",
       "      <th>9</th>\n",
       "      <td>경기도</td>\n",
       "      <td>13,626,339</td>\n",
       "      <td>5,969,573</td>\n",
       "      <td>2.28</td>\n",
       "      <td>6,855,626</td>\n",
       "      <td>6,770,713</td>\n",
       "    </tr>\n",
       "    <tr>\n",
       "      <th>10</th>\n",
       "      <td>강원특별자치도</td>\n",
       "      <td>1,530,712</td>\n",
       "      <td>760,903</td>\n",
       "      <td>2.01</td>\n",
       "      <td>770,130</td>\n",
       "      <td>760,582</td>\n",
       "    </tr>\n",
       "    <tr>\n",
       "      <th>11</th>\n",
       "      <td>충청북도</td>\n",
       "      <td>1,594,326</td>\n",
       "      <td>779,770</td>\n",
       "      <td>2.04</td>\n",
       "      <td>810,835</td>\n",
       "      <td>783,491</td>\n",
       "    </tr>\n",
       "    <tr>\n",
       "      <th>12</th>\n",
       "      <td>충청남도</td>\n",
       "      <td>2,127,630</td>\n",
       "      <td>1,032,336</td>\n",
       "      <td>2.06</td>\n",
       "      <td>1,089,884</td>\n",
       "      <td>1,037,746</td>\n",
       "    </tr>\n",
       "    <tr>\n",
       "      <th>13</th>\n",
       "      <td>전라북도</td>\n",
       "      <td>1,758,661</td>\n",
       "      <td>861,647</td>\n",
       "      <td>2.04</td>\n",
       "      <td>875,353</td>\n",
       "      <td>883,308</td>\n",
       "    </tr>\n",
       "    <tr>\n",
       "      <th>14</th>\n",
       "      <td>전라남도</td>\n",
       "      <td>1,807,295</td>\n",
       "      <td>912,090</td>\n",
       "      <td>1.98</td>\n",
       "      <td>910,810</td>\n",
       "      <td>896,485</td>\n",
       "    </tr>\n",
       "    <tr>\n",
       "      <th>15</th>\n",
       "      <td>경상북도</td>\n",
       "      <td>2,559,924</td>\n",
       "      <td>1,282,575</td>\n",
       "      <td>2.00</td>\n",
       "      <td>1,292,868</td>\n",
       "      <td>1,267,056</td>\n",
       "    </tr>\n",
       "    <tr>\n",
       "      <th>16</th>\n",
       "      <td>경상남도</td>\n",
       "      <td>3,257,009</td>\n",
       "      <td>1,524,861</td>\n",
       "      <td>2.14</td>\n",
       "      <td>1,639,932</td>\n",
       "      <td>1,617,077</td>\n",
       "    </tr>\n",
       "    <tr>\n",
       "      <th>17</th>\n",
       "      <td>제주특별자치도</td>\n",
       "      <td>676,317</td>\n",
       "      <td>313,265</td>\n",
       "      <td>2.16</td>\n",
       "      <td>338,514</td>\n",
       "      <td>337,803</td>\n",
       "    </tr>\n",
       "  </tbody>\n",
       "</table>\n",
       "</div>"
      ],
      "text/plain": [
       "       행정구역        총인구수         세대수  세대당인구       남자인구수       여자인구수\n",
       "0        전국  51,370,001  23,900,917   2.15  25,592,335  25,777,666\n",
       "1     서울특별시   9,407,540   4,475,726   2.10   4,552,501   4,855,039\n",
       "2     부산광역시   3,300,836   1,565,115   2.11   1,609,650   1,691,186\n",
       "3     대구광역시   2,377,801   1,092,536   2.18   1,168,679   1,209,122\n",
       "4     인천광역시   2,987,918   1,344,029   2.22   1,494,725   1,493,193\n",
       "5     광주광역시   1,422,999     656,061   2.17     702,748     720,251\n",
       "6     대전광역시   1,444,595     680,653   2.12     720,520     724,075\n",
       "7     울산광역시   1,104,167     489,298   2.26     567,314     536,853\n",
       "8   세종특별자치시     385,932     160,479   2.40     192,246     193,686\n",
       "9       경기도  13,626,339   5,969,573   2.28   6,855,626   6,770,713\n",
       "10  강원특별자치도   1,530,712     760,903   2.01     770,130     760,582\n",
       "11     충청북도   1,594,326     779,770   2.04     810,835     783,491\n",
       "12     충청남도   2,127,630   1,032,336   2.06   1,089,884   1,037,746\n",
       "13     전라북도   1,758,661     861,647   2.04     875,353     883,308\n",
       "14     전라남도   1,807,295     912,090   1.98     910,810     896,485\n",
       "15     경상북도   2,559,924   1,282,575   2.00   1,292,868   1,267,056\n",
       "16     경상남도   3,257,009   1,524,861   2.14   1,639,932   1,617,077\n",
       "17  제주특별자치도     676,317     313,265   2.16     338,514     337,803"
      ]
     },
     "execution_count": 4,
     "metadata": {},
     "output_type": "execute_result"
    }
   ],
   "source": [
    "df_pop202309 = pd.read_csv('population202309.csv')\n",
    "# 구분자 사용\n",
    "# df_pop202309 = pd.read_csv('population202309.csv', sep = '|')\n",
    "df_pop202309"
   ]
  },
  {
   "cell_type": "code",
   "execution_count": 5,
   "metadata": {},
   "outputs": [
    {
     "name": "stdout",
     "output_type": "stream",
     "text": [
      "<class 'pandas.core.frame.DataFrame'>\n",
      "RangeIndex: 18 entries, 0 to 17\n",
      "Data columns (total 6 columns):\n",
      " #   Column  Non-Null Count  Dtype  \n",
      "---  ------  --------------  -----  \n",
      " 0   행정구역    18 non-null     object \n",
      " 1   총인구수    18 non-null     object \n",
      " 2   세대수     18 non-null     object \n",
      " 3   세대당인구   18 non-null     float64\n",
      " 4   남자인구수   18 non-null     object \n",
      " 5   여자인구수   18 non-null     object \n",
      "dtypes: float64(1), object(5)\n",
      "memory usage: 992.0+ bytes\n"
     ]
    }
   ],
   "source": [
    "df_pop202309.info()"
   ]
  },
  {
   "cell_type": "markdown",
   "metadata": {},
   "source": [
    "데이터의 열 관련 데이터가 무엇이 있는지 알아볼 수 있다. "
   ]
  },
  {
   "cell_type": "markdown",
   "metadata": {},
   "source": [
    "### Excel"
   ]
  },
  {
   "cell_type": "code",
   "execution_count": null,
   "metadata": {},
   "outputs": [],
   "source": [
    "df_titanic = pd.read_excel('titanic.xls')\n",
    "df_titanic.info()"
   ]
  },
  {
   "cell_type": "markdown",
   "metadata": {},
   "source": [
    "예를 들어 각 컬럼을 다 분리하여 각각의 데이터를 받아보자."
   ]
  },
  {
   "cell_type": "code",
   "execution_count": 17,
   "metadata": {},
   "outputs": [
    {
     "data": {
      "text/plain": [
       "0          전국\n",
       "1       서울특별시\n",
       "2       부산광역시\n",
       "3       대구광역시\n",
       "4       인천광역시\n",
       "5       광주광역시\n",
       "6       대전광역시\n",
       "7       울산광역시\n",
       "8     세종특별자치시\n",
       "9         경기도\n",
       "10    강원특별자치도\n",
       "11       충청북도\n",
       "12       충청남도\n",
       "13       전라북도\n",
       "14       전라남도\n",
       "15       경상북도\n",
       "16       경상남도\n",
       "17    제주특별자치도\n",
       "Name: 행정구역, dtype: object"
      ]
     },
     "execution_count": 17,
     "metadata": {},
     "output_type": "execute_result"
    }
   ],
   "source": [
    "df_pop202309['행정구역']"
   ]
  },
  {
   "cell_type": "code",
   "execution_count": 16,
   "metadata": {},
   "outputs": [
    {
     "data": {
      "text/plain": [
       "0     51,370,001\n",
       "1      9,407,540\n",
       "2      3,300,836\n",
       "3      2,377,801\n",
       "4      2,987,918\n",
       "5      1,422,999\n",
       "6      1,444,595\n",
       "7      1,104,167\n",
       "8        385,932\n",
       "9     13,626,339\n",
       "10     1,530,712\n",
       "11     1,594,326\n",
       "12     2,127,630\n",
       "13     1,758,661\n",
       "14     1,807,295\n",
       "15     2,559,924\n",
       "16     3,257,009\n",
       "17       676,317\n",
       "Name: 총인구수, dtype: object"
      ]
     },
     "execution_count": 16,
     "metadata": {},
     "output_type": "execute_result"
    }
   ],
   "source": [
    "df_pop202309['총인구수'] "
   ]
  },
  {
   "cell_type": "code",
   "execution_count": 19,
   "metadata": {},
   "outputs": [
    {
     "data": {
      "text/plain": [
       "0     23,900,917\n",
       "1      4,475,726\n",
       "2      1,565,115\n",
       "3      1,092,536\n",
       "4      1,344,029\n",
       "5        656,061\n",
       "6        680,653\n",
       "7        489,298\n",
       "8        160,479\n",
       "9      5,969,573\n",
       "10       760,903\n",
       "11       779,770\n",
       "12     1,032,336\n",
       "13       861,647\n",
       "14       912,090\n",
       "15     1,282,575\n",
       "16     1,524,861\n",
       "17       313,265\n",
       "Name: 세대수, dtype: object"
      ]
     },
     "execution_count": 19,
     "metadata": {},
     "output_type": "execute_result"
    }
   ],
   "source": [
    "df_pop202309['세대수'] "
   ]
  },
  {
   "cell_type": "code",
   "execution_count": 20,
   "metadata": {},
   "outputs": [
    {
     "data": {
      "text/plain": [
       "0     2.15\n",
       "1     2.10\n",
       "2     2.11\n",
       "3     2.18\n",
       "4     2.22\n",
       "5     2.17\n",
       "6     2.12\n",
       "7     2.26\n",
       "8     2.40\n",
       "9     2.28\n",
       "10    2.01\n",
       "11    2.04\n",
       "12    2.06\n",
       "13    2.04\n",
       "14    1.98\n",
       "15    2.00\n",
       "16    2.14\n",
       "17    2.16\n",
       "Name: 세대당인구, dtype: float64"
      ]
     },
     "execution_count": 20,
     "metadata": {},
     "output_type": "execute_result"
    }
   ],
   "source": [
    "df_pop202309['세대당인구'] "
   ]
  },
  {
   "cell_type": "code",
   "execution_count": 22,
   "metadata": {},
   "outputs": [
    {
     "data": {
      "text/plain": [
       "0     25,592,335\n",
       "1      4,552,501\n",
       "2      1,609,650\n",
       "3      1,168,679\n",
       "4      1,494,725\n",
       "5        702,748\n",
       "6        720,520\n",
       "7        567,314\n",
       "8        192,246\n",
       "9      6,855,626\n",
       "10       770,130\n",
       "11       810,835\n",
       "12     1,089,884\n",
       "13       875,353\n",
       "14       910,810\n",
       "15     1,292,868\n",
       "16     1,639,932\n",
       "17       338,514\n",
       "Name: 남자인구수, dtype: object"
      ]
     },
     "execution_count": 22,
     "metadata": {},
     "output_type": "execute_result"
    }
   ],
   "source": [
    "df_pop202309['남자인구수'] "
   ]
  },
  {
   "cell_type": "code",
   "execution_count": 23,
   "metadata": {},
   "outputs": [
    {
     "data": {
      "text/plain": [
       "0     25,777,666\n",
       "1      4,855,039\n",
       "2      1,691,186\n",
       "3      1,209,122\n",
       "4      1,493,193\n",
       "5        720,251\n",
       "6        724,075\n",
       "7        536,853\n",
       "8        193,686\n",
       "9      6,770,713\n",
       "10       760,582\n",
       "11       783,491\n",
       "12     1,037,746\n",
       "13       883,308\n",
       "14       896,485\n",
       "15     1,267,056\n",
       "16     1,617,077\n",
       "17       337,803\n",
       "Name: 여자인구수, dtype: object"
      ]
     },
     "execution_count": 23,
     "metadata": {},
     "output_type": "execute_result"
    }
   ],
   "source": [
    "df_pop202309['여자인구수'] "
   ]
  },
  {
   "cell_type": "markdown",
   "metadata": {},
   "source": [
    "이렇게 각각의 컬럼의 데이터를 분리하여 데이터를 뽑아낼 수 있다."
   ]
  },
  {
   "cell_type": "markdown",
   "metadata": {},
   "source": [
    "데이터 타입의 변환을 시도해보자. 아래와 같다.    "
   ]
  },
  {
   "cell_type": "code",
   "execution_count": 37,
   "metadata": {},
   "outputs": [
    {
     "name": "stdout",
     "output_type": "stream",
     "text": [
      "0     25,777,666\n",
      "1      4,855,039\n",
      "2      1,691,186\n",
      "3      1,209,122\n",
      "4      1,493,193\n",
      "5        720,251\n",
      "6        724,075\n",
      "7        536,853\n",
      "8        193,686\n",
      "9      6,770,713\n",
      "10       760,582\n",
      "11       783,491\n",
      "12     1,037,746\n",
      "13       883,308\n",
      "14       896,485\n",
      "15     1,267,056\n",
      "16     1,617,077\n",
      "17       337,803\n",
      "Name: 여자인구수, dtype: object\n"
     ]
    }
   ],
   "source": [
    "female_population = df_pop202309['여자인구수']\n",
    "print(female_population)"
   ]
  },
  {
   "cell_type": "markdown",
   "metadata": {},
   "source": [
    "### Json"
   ]
  },
  {
   "cell_type": "code",
   "execution_count": null,
   "metadata": {},
   "outputs": [],
   "source": [
    "df_json = pd.read_json('json_sample.json')\n",
    "df_json"
   ]
  },
  {
   "cell_type": "markdown",
   "metadata": {},
   "source": [
    "### HTML Page의 Table"
   ]
  },
  {
   "cell_type": "code",
   "execution_count": 4,
   "metadata": {},
   "outputs": [
    {
     "ename": "NameError",
     "evalue": "name 'pd' is not defined",
     "output_type": "error",
     "traceback": [
      "\u001b[0;31m---------------------------------------------------------------------------\u001b[0m",
      "\u001b[0;31mNameError\u001b[0m                                 Traceback (most recent call last)",
      "\u001b[1;32m/home/hyeok/Documents/Java/Data-Science/module03.ipynb 셀 21\u001b[0m line \u001b[0;36m1\n\u001b[0;32m----> <a href='vscode-notebook-cell:/home/hyeok/Documents/Java/Data-Science/module03.ipynb#X25sZmlsZQ%3D%3D?line=0'>1</a>\u001b[0m boxoffices \u001b[39m=\u001b[39m pd\u001b[39m.\u001b[39mread_html(\u001b[39m'\u001b[39m\u001b[39mhttps://movie.datamotion.co.kr/Boxoffice\u001b[39m\u001b[39m'\u001b[39m)\n\u001b[1;32m      <a href='vscode-notebook-cell:/home/hyeok/Documents/Java/Data-Science/module03.ipynb#X25sZmlsZQ%3D%3D?line=1'>2</a>\u001b[0m df_boxoffice \u001b[39m=\u001b[39m boxoffices[\u001b[39m1\u001b[39m]\n\u001b[1;32m      <a href='vscode-notebook-cell:/home/hyeok/Documents/Java/Data-Science/module03.ipynb#X25sZmlsZQ%3D%3D?line=2'>3</a>\u001b[0m df_boxoffice\n",
      "\u001b[0;31mNameError\u001b[0m: name 'pd' is not defined"
     ]
    }
   ],
   "source": [
    "boxoffices = pd.read_html('https://movie.datamotion.co.kr/Boxoffice')\n",
    "df_boxoffice = boxoffices[1]\n",
    "df_boxoffice"
   ]
  },
  {
   "cell_type": "markdown",
   "metadata": {},
   "source": [
    "## 데이터 저장"
   ]
  },
  {
   "cell_type": "markdown",
   "metadata": {},
   "source": [
    "### CSV로 저장"
   ]
  },
  {
   "cell_type": "code",
   "execution_count": null,
   "metadata": {},
   "outputs": [],
   "source": [
    "df_boxoffice.to_csv('boxoffice.csv')"
   ]
  },
  {
   "cell_type": "markdown",
   "metadata": {},
   "source": [
    "### JSON 저장"
   ]
  },
  {
   "cell_type": "code",
   "execution_count": null,
   "metadata": {},
   "outputs": [],
   "source": [
    "df_boxoffice.to_json('boxoffice.json', orient='records', indent=4, force_ascii=False)"
   ]
  },
  {
   "cell_type": "markdown",
   "metadata": {},
   "source": [
    "### Excel 저장"
   ]
  },
  {
   "cell_type": "code",
   "execution_count": null,
   "metadata": {},
   "outputs": [],
   "source": [
    "df_boxoffice.to_excel('boxoffice.xlsx')"
   ]
  },
  {
   "cell_type": "markdown",
   "metadata": {},
   "source": [
    "### HTML 저장"
   ]
  },
  {
   "cell_type": "code",
   "execution_count": null,
   "metadata": {},
   "outputs": [],
   "source": [
    "df_boxoffice.to_html('boxoffice.html')"
   ]
  },
  {
   "cell_type": "markdown",
   "metadata": {},
   "source": [
    "### Markdown 저장"
   ]
  },
  {
   "cell_type": "code",
   "execution_count": null,
   "metadata": {},
   "outputs": [],
   "source": [
    "df_boxoffice.to_markdown('boxoffice.md')"
   ]
  }
 ],
 "metadata": {
  "kernelspec": {
   "display_name": "base",
   "language": "python",
   "name": "python3"
  },
  "language_info": {
   "codemirror_mode": {
    "name": "ipython",
    "version": 3
   },
   "file_extension": ".py",
   "mimetype": "text/x-python",
   "name": "python",
   "nbconvert_exporter": "python",
   "pygments_lexer": "ipython3",
   "version": "3.9.18"
  }
 },
 "nbformat": 4,
 "nbformat_minor": 2
}
