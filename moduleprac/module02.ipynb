{
 "cells": [
  {
   "cell_type": "code",
   "execution_count": 19,
   "metadata": {},
   "outputs": [],
   "source": [
    "import pandas as pd"
   ]
  },
  {
   "cell_type": "code",
   "execution_count": 20,
   "metadata": {},
   "outputs": [],
   "source": [
    "list = ['2023-12-30', 3.14, 'Celine', True]\n",
    "series = pd.Series(list)"
   ]
  },
  {
   "cell_type": "markdown",
   "metadata": {},
   "source": [
    "데이터 프레임에서 Celine에서는 row\n"
   ]
  },
  {
   "cell_type": "code",
   "execution_count": 21,
   "metadata": {},
   "outputs": [
    {
     "data": {
      "text/plain": [
       "3.14"
      ]
     },
     "execution_count": 21,
     "metadata": {},
     "output_type": "execute_result"
    }
   ],
   "source": [
    "tuple = ('2023-10-20', 3.14, 'Celine', True)\n",
    "series = pd.Series(tuple)\n",
    "series[1]"
   ]
  },
  {
   "cell_type": "markdown",
   "metadata": {},
   "source": [
    "여기서 튜플로 리스트 형식처럼 작성하였고 시리즈 0 , 1 이렇게 작성하여 출력을 하면 날짜와 3.14가 나오게 된다."
   ]
  },
  {
   "cell_type": "code",
   "execution_count": 22,
   "metadata": {},
   "outputs": [
    {
     "data": {
      "text/plain": [
       "'Celine'"
      ]
     },
     "execution_count": 22,
     "metadata": {},
     "output_type": "execute_result"
    }
   ],
   "source": [
    "tuple = ('Celine', '2023-10-20', 'female', True)\n",
    "series = pd.Series(tuple)\n",
    "series.index = {'name','birthday','gender','isStudent'}\n",
    "series[0]"
   ]
  },
  {
   "cell_type": "markdown",
   "metadata": {},
   "source": [
    "이렇게 이름 생일 성별 학생유무를 확인 할 수 있고 배열의 넘버에 따라 결과 출력이 나오게 된다."
   ]
  },
  {
   "cell_type": "code",
   "execution_count": 23,
   "metadata": {},
   "outputs": [
    {
     "data": {
      "text/plain": [
       "name             Celine\n",
       "birthday     1976-10-28\n",
       "gender           female\n",
       "isStudent          True\n",
       "dtype: object"
      ]
     },
     "execution_count": 23,
     "metadata": {},
     "output_type": "execute_result"
    }
   ],
   "source": [
    "dict = {'name':'Celine', 'birthday': '1976-10-28', 'gender': 'female', 'isStudent': True}\n",
    "series = pd.Series(dict)\n",
    "series"
   ]
  },
  {
   "cell_type": "markdown",
   "metadata": {},
   "source": [
    "이렇게 전체적인 출력을 할 수 있다."
   ]
  },
  {
   "cell_type": "code",
   "execution_count": 24,
   "metadata": {},
   "outputs": [
    {
     "data": {
      "text/plain": [
       "name            Celine\n",
       "birthday    1976-10-28\n",
       "gender          female\n",
       "dtype: object"
      ]
     },
     "execution_count": 24,
     "metadata": {},
     "output_type": "execute_result"
    }
   ],
   "source": [
    "series[0:3]"
   ]
  },
  {
   "cell_type": "markdown",
   "metadata": {},
   "source": [
    "이렇게 작성하여 출력도 할 수 있다."
   ]
  },
  {
   "cell_type": "code",
   "execution_count": 25,
   "metadata": {},
   "outputs": [
    {
     "data": {
      "text/plain": [
       "array(['Celine', '1976-10-28', 'female', True], dtype=object)"
      ]
     },
     "execution_count": 25,
     "metadata": {},
     "output_type": "execute_result"
    }
   ],
   "source": [
    "series.values"
   ]
  },
  {
   "cell_type": "markdown",
   "metadata": {},
   "source": [
    "이러한 데이터 인덱스를 출력하여 데이터의 값을 알 수 있게 된다."
   ]
  },
  {
   "cell_type": "markdown",
   "metadata": {},
   "source": [
    "# DataFrame"
   ]
  },
  {
   "cell_type": "code",
   "execution_count": 26,
   "metadata": {},
   "outputs": [],
   "source": [
    "# 데이터 프레임 만들기\n",
    "df = pd.DataFrame([\n",
    "    #리스트 만들기(행 데이터를 열로 만들기)\n",
    "    ['Celine','France', 90, 100, 100],\n",
    "    ['James', 'UK', 80, 40, 30],\n",
    "    ['Jason','USA',80, 40, 60],\n",
    "    ['Hans','Germany', 60, 50, 90]\n",
    "])"
   ]
  },
  {
   "cell_type": "code",
   "execution_count": 27,
   "metadata": {},
   "outputs": [
    {
     "data": {
      "text/plain": [
       "0    Celine\n",
       "1    France\n",
       "2        90\n",
       "3       100\n",
       "4       100\n",
       "Name: 0, dtype: object"
      ]
     },
     "execution_count": 27,
     "metadata": {},
     "output_type": "execute_result"
    }
   ],
   "source": [
    "df.iloc[0]"
   ]
  },
  {
   "cell_type": "markdown",
   "metadata": {},
   "source": [
    "iloc는 세로를 보여준다."
   ]
  },
  {
   "cell_type": "code",
   "execution_count": 28,
   "metadata": {},
   "outputs": [
    {
     "data": {
      "text/plain": [
       "0    James\n",
       "1       UK\n",
       "2       80\n",
       "3       40\n",
       "4       30\n",
       "Name: 1, dtype: object"
      ]
     },
     "execution_count": 28,
     "metadata": {},
     "output_type": "execute_result"
    }
   ],
   "source": [
    "df.iloc[1]"
   ]
  },
  {
   "cell_type": "markdown",
   "metadata": {},
   "source": [
    "### DataFrame 생성 (List + columns + index)"
   ]
  },
  {
   "cell_type": "markdown",
   "metadata": {},
   "source": [
    "- name을 index로 지정"
   ]
  },
  {
   "cell_type": "code",
   "execution_count": 29,
   "metadata": {},
   "outputs": [],
   "source": [
    "df = pd.DataFrame([\n",
    "    ['France', 90, 100, 100],\n",
    "    ['UK', 80, 40, 30],\n",
    "    ['USA',80, 40, 60],\n",
    "    ['Germany', 60, 50, 90]],\n",
    "    columns = ['nation', 'english', 'math', 'science'],\n",
    "    index = ['celine', 'James','Jason','Hans']\n",
    ")"
   ]
  },
  {
   "cell_type": "markdown",
   "metadata": {},
   "source": [
    "### DataFrame 생성(Dictionary)"
   ]
  },
  {
   "cell_type": "markdown",
   "metadata": {},
   "source": [
    "- dictonary 사용\n",
    "    - column 이름 지정\n"
   ]
  },
  {
   "cell_type": "code",
   "execution_count": 30,
   "metadata": {},
   "outputs": [],
   "source": [
    "df_pop = pd.DataFrame({\n",
    "    '행정구역' : ['서울특별시','부산광역시','대구광역시','인천광역시','광주광역시','대전광역시','울산광역시','세종특별자치시','경기도','강원특별자치도','충청북도','충청남도','전라북도','전라남도','경상북도','경상남도','제주특별자치도'],\n",
    "    '총인구수':['9,407,540','3,300,836','2,377,801','2,987,918','1,422,999','1,444,595','1,104,167','38,5932','13,626,339','1,530,712','1,594,326','2,127,630','1,758,661','1,807,295','2,559,924','3,257,009','676,317'],\n",
    "    '세대수':['4475726','1565115','1092536','1344029','656061','680653','489298','160479','5969573','760903','779770','1032336','861647','912090','1282575','1524861','313265'],\n",
    "    '세대당인구':['2.10','2.11','2.18','2.22','2.17','2.12','2.26','2.40','2.28','2.01','2.04','2.06','2.04','1.98','2.00','2.14','2.16'],\n",
    "    '남자인구수':['4552501','1609650','1168679','1494725','702748','720520','567314','192246','6855626','770130','810835','1089884','875353','910810','1292868','1639932','338514'],\n",
    "    '여자인구수':['4855039','1691186','1209122','1493193','720251','724075','536853','193686','6770713','760582','783491','1037746','883308','896485','1267056','1617077','337803']\n",
    "})"
   ]
  },
  {
   "cell_type": "code",
   "execution_count": 33,
   "metadata": {},
   "outputs": [],
   "source": [
    "df = pd.DataFrame({\n",
    "    'nation':   ['France','UK','USA','Germany'],\n",
    "    'english':  [90,80,80,60],\n",
    "    'math':     [100,40,40,50],\n",
    "    'science':  [100,30,60,90]\n",
    "})\n",
    "df.index = ['Celine','James','Jason','Hans']"
   ]
  },
  {
   "cell_type": "code",
   "execution_count": 38,
   "metadata": {},
   "outputs": [
    {
     "ename": "TypeError",
     "evalue": "'DataFrame' object is not callable",
     "output_type": "error",
     "traceback": [
      "\u001b[0;31m---------------------------------------------------------------------------\u001b[0m",
      "\u001b[0;31mTypeError\u001b[0m                                 Traceback (most recent call last)",
      "\u001b[1;32m/home/hyeok/Documents/Java/Data-Science/module02.ipynb 셀 26\u001b[0m line \u001b[0;36m1\n\u001b[0;32m----> <a href='vscode-notebook-cell:/home/hyeok/Documents/Java/Data-Science/module02.ipynb#X64sZmlsZQ%3D%3D?line=0'>1</a>\u001b[0m df_pop(columns\u001b[39m=\u001b[39;49m[\u001b[39m1\u001b[39;49m])\n",
      "\u001b[0;31mTypeError\u001b[0m: 'DataFrame' object is not callable"
     ]
    }
   ],
   "source": [
    "df_pop(columns=[1])"
   ]
  },
  {
   "cell_type": "code",
   "execution_count": null,
   "metadata": {},
   "outputs": [],
   "source": [
    "df_pop(columns={'행정구역':'district'})"
   ]
  },
  {
   "cell_type": "code",
   "execution_count": null,
   "metadata": {},
   "outputs": [],
   "source": [
    "df_pop.rename(columns={'헹정구역':'district'}, implace=True)"
   ]
  },
  {
   "cell_type": "code",
   "execution_count": null,
   "metadata": {},
   "outputs": [],
   "source": [
    "df_pop.rename(columns={'행정구역':'district','총인구수':'population'})"
   ]
  },
  {
   "cell_type": "code",
   "execution_count": 39,
   "metadata": {},
   "outputs": [
    {
     "name": "stdout",
     "output_type": "stream",
     "text": [
      "<class 'pandas.core.frame.DataFrame'>\n",
      "RangeIndex: 17 entries, 0 to 16\n",
      "Data columns (total 6 columns):\n",
      " #   Column  Non-Null Count  Dtype \n",
      "---  ------  --------------  ----- \n",
      " 0   행정구역    17 non-null     object\n",
      " 1   총인구수    17 non-null     object\n",
      " 2   세대수     17 non-null     object\n",
      " 3   세대당인구   17 non-null     object\n",
      " 4   남자인구수   17 non-null     object\n",
      " 5   여자인구수   17 non-null     object\n",
      "dtypes: object(6)\n",
      "memory usage: 944.0+ bytes\n"
     ]
    }
   ],
   "source": [
    "df_pop.info() # population 정보 전부를 보여준다."
   ]
  },
  {
   "cell_type": "code",
   "execution_count": null,
   "metadata": {},
   "outputs": [],
   "source": [
    "df_pop.index = df_pop.district.to_list() # 방법 1"
   ]
  },
  {
   "cell_type": "code",
   "execution_count": null,
   "metadata": {},
   "outputs": [],
   "source": [
    "df_pop.index = df_pop['district'] # 방법 2"
   ]
  },
  {
   "cell_type": "code",
   "execution_count": null,
   "metadata": {},
   "outputs": [],
   "source": [
    "df_pop.drop(columns=['district'], implace=True)\n",
    "df_pop\n",
    "# axis > 0 = column 삭제"
   ]
  },
  {
   "cell_type": "code",
   "execution_count": null,
   "metadata": {},
   "outputs": [],
   "source": [
    "df.name"
   ]
  },
  {
   "cell_type": "code",
   "execution_count": null,
   "metadata": {},
   "outputs": [],
   "source": [
    "df['name','nation']"
   ]
  },
  {
   "cell_type": "code",
   "execution_count": null,
   "metadata": {},
   "outputs": [],
   "source": [
    "type(df[['name','nation']])"
   ]
  },
  {
   "cell_type": "markdown",
   "metadata": {},
   "source": [
    "2개 이상 컬럼을 가져오고 싶다면 위와 같이 작성을 하면 된다."
   ]
  },
  {
   "cell_type": "code",
   "execution_count": null,
   "metadata": {},
   "outputs": [],
   "source": [
    "df.iloc[1]"
   ]
  },
  {
   "cell_type": "markdown",
   "metadata": {},
   "source": [
    "정수형이 아닌 문자열로 가져오려고 하면 아래처럼 작성 "
   ]
  },
  {
   "cell_type": "code",
   "execution_count": null,
   "metadata": {},
   "outputs": [],
   "source": [
    "df.iloc['Celine']"
   ]
  },
  {
   "cell_type": "code",
   "execution_count": null,
   "metadata": {},
   "outputs": [],
   "source": [
    "df.iloc[0,'Celine']"
   ]
  },
  {
   "cell_type": "code",
   "execution_count": null,
   "metadata": {},
   "outputs": [],
   "source": [
    "df.iloc[0,0]"
   ]
  },
  {
   "cell_type": "code",
   "execution_count": null,
   "metadata": {},
   "outputs": [],
   "source": [
    "df_pop['male_ratio'] = round(df_pop.male / df_pop.population, 4) * 100\n",
    "df_pop"
   ]
  },
  {
   "cell_type": "code",
   "execution_count": null,
   "metadata": {},
   "outputs": [],
   "source": []
  },
  {
   "cell_type": "markdown",
   "metadata": {},
   "source": [
    "## column, row 위치바꿈"
   ]
  },
  {
   "cell_type": "code",
   "execution_count": 40,
   "metadata": {},
   "outputs": [
    {
     "name": "stdout",
     "output_type": "stream",
     "text": [
      "<class 'pandas.core.frame.DataFrame'>\n",
      "RangeIndex: 17 entries, 0 to 16\n",
      "Data columns (total 6 columns):\n",
      " #   Column  Non-Null Count  Dtype \n",
      "---  ------  --------------  ----- \n",
      " 0   행정구역    17 non-null     object\n",
      " 1   총인구수    17 non-null     object\n",
      " 2   세대수     17 non-null     object\n",
      " 3   세대당인구   17 non-null     object\n",
      " 4   남자인구수   17 non-null     object\n",
      " 5   여자인구수   17 non-null     object\n",
      "dtypes: object(6)\n",
      "memory usage: 944.0+ bytes\n"
     ]
    }
   ],
   "source": [
    "df_pop.info()"
   ]
  },
  {
   "cell_type": "markdown",
   "metadata": {},
   "source": [
    "# Series 산술 연산"
   ]
  },
  {
   "cell_type": "code",
   "execution_count": 41,
   "metadata": {},
   "outputs": [],
   "source": [
    "student1 = pd.Series({'국어' : 100, '영어' : 80, '수학' : 90})"
   ]
  },
  {
   "cell_type": "code",
   "execution_count": 43,
   "metadata": {},
   "outputs": [],
   "source": [
    "percentage = student1 / 200"
   ]
  },
  {
   "cell_type": "code",
   "execution_count": 44,
   "metadata": {},
   "outputs": [],
   "source": [
    "student2 = pd.Series({'수학' : 100, '국어' : 80, '영어' : 90})\n",
    "total = student1 + student2"
   ]
  },
  {
   "cell_type": "code",
   "execution_count": 45,
   "metadata": {},
   "outputs": [],
   "source": [
    "df = pd.DataFrame({\n",
    "    'nation':   ['France','UK','USA','Germany'],\n",
    "    'english':  [90,80,80,60],\n",
    "    'math':     [100,40,40,50],\n",
    "    'science':  [100,30,60,90]\n",
    "})\n",
    "df.index = ['Celine','James','Jason','Hans']"
   ]
  },
  {
   "cell_type": "code",
   "execution_count": null,
   "metadata": {},
   "outputs": [],
   "source": [
    "df2 = df[['english', 'math', 'science']] + 100\n",
    "df3 = df + df2\n",
    "df3"
   ]
  },
  {
   "cell_type": "code",
   "execution_count": null,
   "metadata": {},
   "outputs": [],
   "source": []
  }
 ],
 "metadata": {
  "kernelspec": {
   "display_name": "base",
   "language": "python",
   "name": "python3"
  },
  "language_info": {
   "codemirror_mode": {
    "name": "ipython",
    "version": 3
   },
   "file_extension": ".py",
   "mimetype": "text/x-python",
   "name": "python",
   "nbconvert_exporter": "python",
   "pygments_lexer": "ipython3",
   "version": "3.9.18"
  }
 },
 "nbformat": 4,
 "nbformat_minor": 2
}
